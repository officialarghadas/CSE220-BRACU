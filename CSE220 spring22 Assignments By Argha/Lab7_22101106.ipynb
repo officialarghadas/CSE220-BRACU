{
  "nbformat": 4,
  "nbformat_minor": 0,
  "metadata": {
    "colab": {
      "provenance": []
    },
    "kernelspec": {
      "name": "python3",
      "display_name": "Python 3"
    },
    "language_info": {
      "name": "python"
    }
  },
  "cells": [
    {
      "cell_type": "markdown",
      "source": [
        "# Key Index Searching & Sorting"
      ],
      "metadata": {
        "id": "8B-wFbL8_Uz1"
      }
    },
    {
      "cell_type": "code",
      "execution_count": null,
      "metadata": {
        "id": "Zv8YNfN9_Pxi",
        "colab": {
          "base_uri": "https://localhost:8080/"
        },
        "outputId": "8b5d6640-84f7-45bb-a289-d82962e518ad"
      },
      "outputs": [
        {
          "output_type": "stream",
          "name": "stdout",
          "text": [
            "True\n",
            "False\n",
            "[2, 2, 3, 4, 5, 6, 7, 7, 9, 10]\n",
            "True\n",
            "False\n",
            "[-10, -9, -7, -7, -6, -5, -4, -3, -2, -2]\n",
            "True\n",
            "False\n",
            "[-10, -7, -6, -3, -2, 2, 4, 5, 7, 9]\n"
          ]
        }
      ],
      "source": [
        "class KeyIndex:\n",
        "    def __init__(self, a):\n",
        "        self.min = max_value = a[0]\n",
        "\n",
        "        for i in range(len(a)):\n",
        "            if a[i] < self.min:\n",
        "                self.min = a[i]\n",
        "            if a[i] > max_value:\n",
        "                max_value = a[i]\n",
        "\n",
        "        if self.min < 0:\n",
        "            self.k = [0] * (max_value + (self.min * -1) + 1)\n",
        "            for i in range(len(a)):\n",
        "                self.k[a[i] + self.min * -1] += 1\n",
        "\n",
        "        else:\n",
        "            self.k = [0] * (max_value + 1)\n",
        "            for i in range(len(a)):\n",
        "                self.k[a[i]] += 1\n",
        "\n",
        "    def search(self, key):\n",
        "        if self.min < 0:\n",
        "            idx = key + self.min * -1\n",
        "            if idx >= len(self.k) or self.k[idx] == 0:\n",
        "                return False\n",
        "            else:\n",
        "                return self.k[idx] != 0\n",
        "        else:\n",
        "            if key < 0 or key >= len(self.k) or self.k[key] == 0:\n",
        "                return False\n",
        "            else:\n",
        "                return self.k[key] != 0\n",
        "\n",
        "    def sort(self):\n",
        "        arr = []\n",
        "\n",
        "        if self.min < 0:\n",
        "            for i in range(len(self.k)):\n",
        "                if self.k[i] != 0:\n",
        "                    elem = i + self.min\n",
        "                    count = self.k[i]\n",
        "                    while count > 0:\n",
        "                        arr += [elem]\n",
        "                        count -= 1\n",
        "\n",
        "        else:\n",
        "            for i in range(len(self.k)):\n",
        "                if self.k[i] != 0:\n",
        "                    elem = i\n",
        "                    count = self.k[i]\n",
        "                    while count > 0:\n",
        "                        arr += [elem]\n",
        "                        count -= 1\n",
        "\n",
        "        return arr\n",
        "\n",
        "\n",
        "def tester():\n",
        "\n",
        "    arr1 = [9, 2, 4, 3, 2, 7, 5, 6, 7, 10]\n",
        "    k = KeyIndex(arr1)\n",
        "    print(k.search(2))\n",
        "    print(k.search(8))\n",
        "    print(k.sort())\n",
        "\n",
        "\n",
        "    arr2 = [-9, -2, -4, -3, -2, -7, -5, -6, -7, -10]\n",
        "    k = KeyIndex(arr2)\n",
        "    print(k.search(-2))\n",
        "    print(k.search(-1))\n",
        "    print(k.sort())\n",
        "\n",
        "\n",
        "    arr3 = [9, -2, 4, -3, 2, -7, 5, -6, 7, -10]\n",
        "    k = KeyIndex(arr3)\n",
        "    print(k.search(2))\n",
        "    print(k.search(-20))\n",
        "    print(k.sort())\n",
        "\n",
        "\n",
        "tester()"
      ]
    },
    {
      "cell_type": "markdown",
      "source": [
        "# Hashing"
      ],
      "metadata": {
        "id": "N_SaBg7W_d6x"
      }
    },
    {
      "cell_type": "code",
      "source": [
        "def hashfunction(key):\n",
        "    sum = 0\n",
        "    count = 0\n",
        "    for i in key:\n",
        "        if \"A\" <= i <= \"Z\":\n",
        "            if i not in \"AEIOU\":\n",
        "                count += 1\n",
        "        elif \"0\" <= i <= \"9\":\n",
        "            sum += int(i)\n",
        "    return (count * 24 + sum) % 9\n",
        "\n",
        "\n",
        "def hashTable(arr):\n",
        "    size = 9\n",
        "    table = [0] * size\n",
        "    for i in arr:\n",
        "        idx = hashfunction(i)\n",
        "        print(idx, i)\n",
        "        if table[idx] == 0:\n",
        "            table[idx] = i\n",
        "        else:\n",
        "            while table[idx] != 0:\n",
        "                idx = (idx + 1) % size\n",
        "            table[idx] = i\n",
        "    return table\n",
        "\n",
        "# Test Case\n",
        "print(\n",
        "    hashTable(\n",
        "        [\n",
        "            \"ST1E89B8A32\",\n",
        "            \"ST1E89B8A33\",\n",
        "            \"ST1E89B8A34\",\n",
        "            \"ST1E89B8A30\",\n",
        "            \"ST1E89B8A36\",\n",
        "            \"ST1E89B8A27\",\n",
        "        ]\n",
        "    )\n",
        ")"
      ],
      "metadata": {
        "id": "JCu8D9sCE9Wj",
        "colab": {
          "base_uri": "https://localhost:8080/"
        },
        "outputId": "2bd8f87a-1414-4b05-f281-1ce56203dd77"
      },
      "execution_count": null,
      "outputs": [
        {
          "output_type": "stream",
          "name": "stdout",
          "text": [
            "4 ST1E89B8A32\n",
            "5 ST1E89B8A33\n",
            "6 ST1E89B8A34\n",
            "2 ST1E89B8A30\n",
            "8 ST1E89B8A36\n",
            "8 ST1E89B8A27\n",
            "['ST1E89B8A27', 0, 'ST1E89B8A30', 0, 'ST1E89B8A32', 'ST1E89B8A33', 'ST1E89B8A34', 0, 'ST1E89B8A36']\n"
          ]
        }
      ]
    }
  ]
}