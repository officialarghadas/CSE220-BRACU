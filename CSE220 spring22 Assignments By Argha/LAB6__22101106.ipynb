{
  "nbformat": 4,
  "nbformat_minor": 0,
  "metadata": {
    "colab": {
      "provenance": []
    },
    "kernelspec": {
      "name": "python3",
      "display_name": "Python 3"
    },
    "language_info": {
      "name": "python"
    }
  },
  "cells": [
    {
      "cell_type": "markdown",
      "source": [
        "# Task 1"
      ],
      "metadata": {
        "id": "gecIHXT1RVOt"
      }
    },
    {
      "cell_type": "markdown",
      "source": [
        "### A (Factorial of n)"
      ],
      "metadata": {
        "id": "slanONptRYHA"
      }
    },
    {
      "cell_type": "code",
      "source": [
        "def factorial(n):\n",
        "    if n == 0:\n",
        "        return 1\n",
        "    else:\n",
        "        return n * factorial(n-1)\n",
        "\n",
        "print(factorial(5))"
      ],
      "metadata": {
        "id": "_Aa8xfIbRXqO",
        "colab": {
          "base_uri": "https://localhost:8080/"
        },
        "outputId": "e8d399d6-0e62-4ee5-b904-f31f8056bbd8"
      },
      "execution_count": null,
      "outputs": [
        {
          "output_type": "stream",
          "name": "stdout",
          "text": [
            "120\n"
          ]
        }
      ]
    },
    {
      "cell_type": "markdown",
      "source": [
        "### B (n-th Fibonacci number)"
      ],
      "metadata": {
        "id": "4PPuhEvvRndV"
      }
    },
    {
      "cell_type": "code",
      "source": [
        "def fib(n):\n",
        "    if n == 0 or n == 1:\n",
        "        return n\n",
        "    else:\n",
        "        return fib(n-1) + fib(n-2)\n",
        "\n",
        "print(fib(6))"
      ],
      "metadata": {
        "id": "PLFfm2fsRU7q",
        "colab": {
          "base_uri": "https://localhost:8080/"
        },
        "outputId": "74c08dda-b3c9-488c-b904-5d512af7058b"
      },
      "execution_count": null,
      "outputs": [
        {
          "output_type": "stream",
          "name": "stdout",
          "text": [
            "8\n"
          ]
        }
      ]
    },
    {
      "cell_type": "markdown",
      "source": [
        "### C (Print Array)"
      ],
      "metadata": {
        "id": "47DchvRuRs_b"
      }
    },
    {
      "cell_type": "code",
      "execution_count": null,
      "metadata": {
        "id": "rjJL2133RJ0F",
        "colab": {
          "base_uri": "https://localhost:8080/"
        },
        "outputId": "18e80cf6-80d0-49e3-9004-6449b149888a"
      },
      "outputs": [
        {
          "output_type": "stream",
          "name": "stdout",
          "text": [
            "1 2 3 4 5"
          ]
        }
      ],
      "source": [
        "def print_array(arr):\n",
        "    if len(arr) == 1:\n",
        "        print(arr[0], end='')\n",
        "    else:\n",
        "        print(arr[0], end=' ')\n",
        "        print_array(arr[1:])\n",
        "\n",
        "print_array([1, 2, 3, 4, 5])"
      ]
    },
    {
      "cell_type": "markdown",
      "source": [
        "### D (Power of N)"
      ],
      "metadata": {
        "id": "eA2DQm5iSLz0"
      }
    },
    {
      "cell_type": "code",
      "source": [
        "def powerN(base, n):\n",
        "    if n==0:\n",
        "        return 1\n",
        "    elif n == 1:\n",
        "        return base\n",
        "    else:\n",
        "        return base * powerN(base, n-1)\n",
        "\n",
        "\n",
        "print(powerN(3, 1))\n",
        "print(powerN(3, 2))\n",
        "print(powerN(3, 3))"
      ],
      "metadata": {
        "id": "hvIauP7-SSlO",
        "colab": {
          "base_uri": "https://localhost:8080/"
        },
        "outputId": "684b77c5-d04a-43c3-dbcb-b68a634b125c"
      },
      "execution_count": null,
      "outputs": [
        {
          "output_type": "stream",
          "name": "stdout",
          "text": [
            "1\n",
            "9\n",
            "27\n"
          ]
        }
      ]
    },
    {
      "cell_type": "markdown",
      "source": [
        "# Task 2"
      ],
      "metadata": {
        "id": "odAPBD_5TEuG"
      }
    },
    {
      "cell_type": "markdown",
      "source": [
        "### A (Decimal to binary)"
      ],
      "metadata": {
        "id": "TMN20sW5TG0v"
      }
    },
    {
      "cell_type": "code",
      "source": [
        "def dec2bin(n):\n",
        "    if n == 0:\n",
        "        return \"0\"\n",
        "    elif n == 1:\n",
        "        return \"1\"\n",
        "    else:\n",
        "        return dec2bin(n // 2) + str(n % 2)\n",
        "\n",
        "print(dec2bin(55))\n"
      ],
      "metadata": {
        "id": "knNszpMzTB1D",
        "colab": {
          "base_uri": "https://localhost:8080/"
        },
        "outputId": "467bb0b9-a159-4ca7-85e5-ba371d7d5b5a"
      },
      "execution_count": null,
      "outputs": [
        {
          "output_type": "stream",
          "name": "stdout",
          "text": [
            "110111\n"
          ]
        }
      ]
    },
    {
      "cell_type": "markdown",
      "source": [
        "### B (Add all the elements of singly linked linear list)"
      ],
      "metadata": {
        "id": "lv-V_QATTRt_"
      }
    },
    {
      "cell_type": "code",
      "source": [
        "class Node:\n",
        "    def __init__(self, element, next=None):\n",
        "        self.element = element\n",
        "        self.next = next\n",
        "\n",
        "\n",
        "class SinglyLinkedList:\n",
        "    def __init__(self, array):\n",
        "        node = Node(array[0])\n",
        "        self.head = node\n",
        "        for i in range(1, len(array)):\n",
        "            node.next = Node(array[i])\n",
        "            node = node.next\n",
        "\n",
        "    def __str__(self):\n",
        "        result = \"\"\n",
        "        itr = self.head\n",
        "        while itr != None:\n",
        "            result += str(itr.element) + \" \"\n",
        "            itr = itr.next\n",
        "        return result\n",
        "\n",
        "\n",
        "def add_all(head):\n",
        "    if head == None:\n",
        "        return 0\n",
        "    else:\n",
        "        return head.element + add_all(head.next)\n",
        "\n",
        "\n",
        "\n",
        "sll = SinglyLinkedList([10, 20, 30, 40])\n",
        "print(\"The list is: \", sll)\n",
        "print(\"The sum of all elements is: \", add_all(sll.head))"
      ],
      "metadata": {
        "id": "iZE_N0qtTS_1",
        "colab": {
          "base_uri": "https://localhost:8080/"
        },
        "outputId": "17490d26-2417-47d9-a09e-03ddbdf19424"
      },
      "execution_count": null,
      "outputs": [
        {
          "output_type": "stream",
          "name": "stdout",
          "text": [
            "The list is:  10 20 30 40 \n",
            "The sum of all elements is:  100\n"
          ]
        }
      ]
    },
    {
      "cell_type": "markdown",
      "source": [
        "### C (Print reversed)"
      ],
      "metadata": {
        "id": "PxRrZ3BnTSIA"
      }
    },
    {
      "cell_type": "code",
      "source": [
        "class Node:\n",
        "    def __init__(self, element, next=None):\n",
        "        self.element = element\n",
        "        self.next = next\n",
        "\n",
        "\n",
        "class SinglyLinkedList:\n",
        "    def __init__(self, array):\n",
        "        node = Node(array[0])\n",
        "        self.head = node\n",
        "        for i in range(1, len(array)):\n",
        "            node.next = Node(array[i])\n",
        "            node = node.next\n",
        "\n",
        "    def __str__(self):\n",
        "        result = \"\"\n",
        "        itr = self.head\n",
        "        while itr != None:\n",
        "            result += str(itr.element) + \"\"\n",
        "            itr = itr.next\n",
        "        return result\n",
        "\n",
        "\n",
        "def printReversed(head):\n",
        "    if head == None:\n",
        "        return\n",
        "    else:\n",
        "        printReversed(head.next)\n",
        "        print(head.element)\n",
        "\n",
        "\n",
        "sll = SinglyLinkedList([10, 20, 30, 40])\n",
        "\n",
        "printReversed(sll.head)"
      ],
      "metadata": {
        "id": "poC92aACV31-",
        "colab": {
          "base_uri": "https://localhost:8080/"
        },
        "outputId": "0a815647-9b0e-40f8-f731-b4cde23a4c2d"
      },
      "execution_count": null,
      "outputs": [
        {
          "output_type": "stream",
          "name": "stdout",
          "text": [
            "40\n",
            "30\n",
            "20\n",
            "10\n"
          ]
        }
      ]
    },
    {
      "cell_type": "markdown",
      "source": [
        "# 3"
      ],
      "metadata": {
        "id": "BS7A9ioDV3BS"
      }
    },
    {
      "cell_type": "code",
      "source": [
        "def hocBuilder(height):\n",
        "    if height == 0:\n",
        "        return 0\n",
        "    elif height == 1:\n",
        "        return 8\n",
        "    else:\n",
        "        return hocBuilder(height-1) + 5\n",
        "\n",
        "\n",
        "height = int(input(\"Enter the height of the HOC: \"))\n",
        "print(\"Cards Required:\",hocBuilder(height))"
      ],
      "metadata": {
        "id": "hYlTSqXrWU2g",
        "colab": {
          "base_uri": "https://localhost:8080/"
        },
        "outputId": "6cc712e9-eb9f-4d95-b68b-3e2b56306ebe"
      },
      "execution_count": null,
      "outputs": [
        {
          "output_type": "stream",
          "name": "stdout",
          "text": [
            "Enter the height of the HOC: 3\n",
            "Cards Required: 18\n"
          ]
        }
      ]
    },
    {
      "cell_type": "markdown",
      "source": [
        "### 4"
      ],
      "metadata": {
        "id": "L683hVdHTSeQ"
      }
    },
    {
      "cell_type": "markdown",
      "source": [
        "### A"
      ],
      "metadata": {
        "id": "cQUqZeYAUfpP"
      }
    },
    {
      "cell_type": "code",
      "source": [
        "def left(rows, n):\n",
        "\n",
        "    def series(rows, n):\n",
        "        if rows == 0:\n",
        "            return\n",
        "        print(n, end=\"\")\n",
        "        series(rows-1, n+1)\n",
        "\n",
        "    if rows == 0:\n",
        "        return\n",
        "\n",
        "    series(n - rows+1, 1)\n",
        "    print()\n",
        "    left(rows-1, n)\n",
        "\n",
        "\n",
        "left(5, 5)"
      ],
      "metadata": {
        "id": "G_cw44yuT7zV",
        "colab": {
          "base_uri": "https://localhost:8080/"
        },
        "outputId": "70be5370-d4ed-4dc9-c2a8-e85db90c9168"
      },
      "execution_count": null,
      "outputs": [
        {
          "output_type": "stream",
          "name": "stdout",
          "text": [
            "1\n",
            "12\n",
            "123\n",
            "1234\n",
            "12345\n"
          ]
        }
      ]
    },
    {
      "cell_type": "markdown",
      "source": [
        "### B"
      ],
      "metadata": {
        "id": "r1PR1yyAUeMz"
      }
    },
    {
      "cell_type": "code",
      "source": [
        "def right(rows, n):\n",
        "\n",
        "    def series(rows, n):\n",
        "        if rows == 0:\n",
        "            return\n",
        "        print(n, end=\"\")\n",
        "        series(rows-1, n+1)\n",
        "\n",
        "    def white_spaces(n):\n",
        "        if n == 0:\n",
        "            return\n",
        "        print(\" \", end=\"\")\n",
        "        white_spaces(n-1)\n",
        "\n",
        "    if rows == 0:\n",
        "        return\n",
        "\n",
        "    white_spaces(rows-1)\n",
        "    series(n - rows+1, 1)\n",
        "    print()\n",
        "    right(rows-1, n)\n",
        "\n",
        "\n",
        "right(5, 5)"
      ],
      "metadata": {
        "id": "xEFJAsNoT5X0",
        "colab": {
          "base_uri": "https://localhost:8080/"
        },
        "outputId": "c10fcd7b-c6b0-4070-b5c8-3fb4620c9f50"
      },
      "execution_count": null,
      "outputs": [
        {
          "output_type": "stream",
          "name": "stdout",
          "text": [
            "    1\n",
            "   12\n",
            "  123\n",
            " 1234\n",
            "12345\n"
          ]
        }
      ]
    },
    {
      "cell_type": "markdown",
      "source": [
        "# 5"
      ],
      "metadata": {
        "id": "RkLQRdD8Ujjz"
      }
    },
    {
      "cell_type": "code",
      "source": [
        "class FinalQ:\n",
        "    def print(self, array, idx):\n",
        "        if idx < len(array):\n",
        "            profit = self.calcProfit(array[idx])\n",
        "            print(f\"Investment: {array[idx]}; Profit: {profit:.1f}\")\n",
        "            self.print(array, idx + 1)\n",
        "\n",
        "    def calcProfit(self, investment):\n",
        "        if investment == 25000:\n",
        "            return 0\n",
        "        elif 25000 < investment <= 100000:\n",
        "            return self.calcProfit(investment-1000) + 45\n",
        "        elif 100000 < investment:\n",
        "            return self.calcProfit(investment-100) + 8\n",
        "\n",
        "\n",
        "array = [25000, 100000, 250000, 350000]\n",
        "f = FinalQ()\n",
        "f.print(array, 0)"
      ],
      "metadata": {
        "id": "Dj_NefbqWW-E",
        "colab": {
          "base_uri": "https://localhost:8080/"
        },
        "outputId": "545d4109-e19c-458e-8ceb-0a85f8639809"
      },
      "execution_count": null,
      "outputs": [
        {
          "output_type": "stream",
          "name": "stdout",
          "text": [
            "Investment: 25000; Profit: 0.0\n",
            "Investment: 100000; Profit: 3375.0\n",
            "Investment: 250000; Profit: 15375.0\n",
            "Investment: 350000; Profit: 23375.0\n"
          ]
        }
      ]
    },
    {
      "cell_type": "markdown",
      "source": [
        "# **Recursion Lab TASK1**"
      ],
      "metadata": {
        "id": "dfGr4Cnp_k0a"
      }
    },
    {
      "cell_type": "code",
      "source": [
        "def flattenList(given_list, output_list):\n",
        "    if len(given_list) == 0:\n",
        "        return output_list\n",
        "    if isinstance(given_list[0], list):\n",
        "        output_list = flattenList(given_list[0], output_list)\n",
        "    else:\n",
        "        output_list.append(given_list[0])\n",
        "    return flattenList(given_list[1:], output_list)\n",
        "\n",
        "given_list = [1, [2, [3, [4], 5], 6], 7, 8, [9, [[10, 11], 12], 13], 14, [15, [16, [17]]]]\n",
        "output_list = flattenList(given_list, [])\n",
        "print(output_list)"
      ],
      "metadata": {
        "id": "FyewCULM_dtp"
      },
      "execution_count": null,
      "outputs": []
    },
    {
      "cell_type": "markdown",
      "source": [],
      "metadata": {
        "id": "tYQ7TQGTCSvI"
      }
    },
    {
      "cell_type": "code",
      "source": [
        "class Node:\n",
        "    def __init__(self, next=None, bottom=None, val=None):\n",
        "        self.next = next # for next item\n",
        "        self.bottom = bottom # for nested item check\n",
        "        self.val = val # The integer value.\n",
        "\n",
        "def flattenList(head):\n",
        "    if head is None:\n",
        "        return head\n",
        "\n",
        "    if head.bottom:\n",
        "        head.next = flattenList(head.bottom)\n",
        "\n",
        "    if head.next is not None and head.val <= head.next.val:\n",
        "        head.next = flattenList(head.next)\n",
        "\n",
        "    return head\n",
        "\n",
        "\n",
        "\n",
        "\n",
        "\n"
      ],
      "metadata": {
        "id": "NnI5T6bv_doI"
      },
      "execution_count": null,
      "outputs": []
    }
  ]
}