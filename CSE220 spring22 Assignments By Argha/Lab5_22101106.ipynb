{
  "nbformat": 4,
  "nbformat_minor": 0,
  "metadata": {
    "colab": {
      "provenance": []
    },
    "kernelspec": {
      "name": "python3",
      "display_name": "Python 3"
    },
    "language_info": {
      "name": "python"
    }
  },
  "cells": [
    {
      "cell_type": "markdown",
      "source": [
        "### Array based stack."
      ],
      "metadata": {
        "id": "vrkvRyf1RbQ-"
      }
    },
    {
      "cell_type": "code",
      "source": [
        "class StackList:\n",
        "    def __init__(self):\n",
        "        self.stack = [None]*30\n",
        "        self.ptr = -1\n",
        "\n",
        "    def push(self, item):\n",
        "        if self.ptr == 30:\n",
        "            print(\"Memory Error: Stack Overflow\")\n",
        "            return None\n",
        "        self.ptr += 1\n",
        "        self.stack = self.stack + [None]\n",
        "        self.stack[self.ptr] = item\n",
        "\n",
        "\n",
        "    def pop(self):\n",
        "        if self.ptr == -1:\n",
        "            # raise MemoryError(\"Stack Underflow\")\n",
        "            print(\"Memory Error: Stack Underflow\")\n",
        "            return None\n",
        "        else:\n",
        "            item = self.stack[self.ptr]\n",
        "            self.stack = self.stack[: self.ptr]\n",
        "            self.ptr -= 1\n",
        "            return item\n",
        "\n",
        "    def peek(self):\n",
        "        if self.ptr == -1:\n",
        "            print(\"Memory Error: Stack Underflow\")\n",
        "            # raise MemoryError(\"Stack Underflow\")\n",
        "            return None\n",
        "\n",
        "        return self.stack[self.ptr]"
      ],
      "metadata": {
        "id": "tr1IOcudRXlY"
      },
      "execution_count": null,
      "outputs": []
    },
    {
      "cell_type": "markdown",
      "source": [
        "### Linked list based stack"
      ],
      "metadata": {
        "id": "ZaLsuIkrRS1u"
      }
    },
    {
      "cell_type": "code",
      "execution_count": null,
      "metadata": {
        "id": "LuzLtI4ZRQw6"
      },
      "outputs": [],
      "source": [
        "class Node:\n",
        "    def __init__(self, data, next = None):\n",
        "        self.data = data\n",
        "        self.next = next\n",
        "\n",
        "\n",
        "class StackLinkedList:\n",
        "    def __init__(self):\n",
        "        self.ptr = None\n",
        "\n",
        "    def push(self, data):\n",
        "        node = Node(data)\n",
        "        node.next = self.ptr\n",
        "        self.ptr = node\n",
        "\n",
        "    def pop(self):\n",
        "        if self.ptr is None:\n",
        "            # raise MemoryError(\"Stack Underflow\")\n",
        "            print(\"Memory Error: Stack Underflow\")\n",
        "            return None\n",
        "        else:\n",
        "            elem = self.ptr\n",
        "            self.ptr = self.ptr.next\n",
        "            elem.next = None\n",
        "            return elem.data\n",
        "\n",
        "    def peek(self):\n",
        "        if self.ptr is None:\n",
        "            # raise MemoryError(\"Stack Underflow\")\n",
        "            print(\"Memory Error: Stack Underflow\")\n",
        "            return None\n",
        "        else:\n",
        "            return self.ptr.data"
      ]
    },
    {
      "cell_type": "markdown",
      "source": [
        "### Checker"
      ],
      "metadata": {
        "id": "CnZgnP7LGCwu"
      }
    },
    {
      "cell_type": "code",
      "source": [
        "def expression_checker(stack,s):\n",
        "    # This single function will work for both stack implementations\n",
        "\n",
        "    mismatch = \"\"\n",
        "    position = {}\n",
        "\n",
        "    for i in range(len(s)):\n",
        "\n",
        "        if s[i] in \"([{\":\n",
        "            stack.push(s[i])\n",
        "            position[s[i]] = i + 1\n",
        "\n",
        "        elif s[i] in \")]}\":\n",
        "            position[s[i]] = i + 1\n",
        "\n",
        "            if (stack.ptr == -1) or (stack.ptr is None):\n",
        "                stack.push(s[i])\n",
        "\n",
        "\n",
        "            if (stack.ptr == -1) or (stack.ptr is None) or stack.peek() + s[i] not in \"(){}[]\":\n",
        "                mismatch = stack.peek()\n",
        "                break\n",
        "\n",
        "            else:\n",
        "                stack.pop()\n",
        "\n",
        "    if mismatch == \"\":\n",
        "        print(\"This expression is correct.\")\n",
        "        return\n",
        "\n",
        "    else:\n",
        "\n",
        "        if mismatch in \")}]\":\n",
        "            status = f\"'{mismatch}' - not opened\"\n",
        "\n",
        "        else:\n",
        "            status = f\"'{mismatch}' - not closed\"\n",
        "\n",
        "        print(\"This expression is NOT correct.\")\n",
        "        print(f\"Error at character # {position[mismatch]}. {status}.\")\n",
        "        return"
      ],
      "metadata": {
        "id": "Wq7ujVjiGEVP"
      },
      "execution_count": null,
      "outputs": []
    },
    {
      "cell_type": "code",
      "source": [],
      "metadata": {
        "id": "t28GIhyFGKHV"
      },
      "execution_count": null,
      "outputs": []
    },
    {
      "cell_type": "markdown",
      "source": [
        "### Test 1"
      ],
      "metadata": {
        "id": "TdKlZV4jGUIv"
      }
    },
    {
      "cell_type": "code",
      "source": [
        "# Stack Using List\n",
        "stack = StackList()\n",
        "\n",
        "expression = \")\"\n",
        "\n",
        "expression_checker(stack,expression)\n",
        "\n",
        "\n",
        "# Stack Using Linked List\n",
        "stack = StackLinkedList()\n",
        "\n",
        "expression = \"1+2*(3/4)\"\n",
        "\n",
        "expression_checker(stack,expression)"
      ],
      "metadata": {
        "id": "opfOPL_kGVzP",
        "colab": {
          "base_uri": "https://localhost:8080/"
        },
        "outputId": "fb6b0346-b707-458e-e76e-67bc6f891033"
      },
      "execution_count": null,
      "outputs": [
        {
          "output_type": "stream",
          "name": "stdout",
          "text": [
            "This expression is NOT correct.\n",
            "Error at character # 1. ')' - not opened.\n",
            "This expression is correct.\n"
          ]
        }
      ]
    },
    {
      "cell_type": "markdown",
      "source": [
        "### Test 2"
      ],
      "metadata": {
        "id": "xEfnPKmx8vW4"
      }
    },
    {
      "cell_type": "code",
      "source": [
        "# Stack Using List\n",
        "stack = StackList()\n",
        "\n",
        "expression = \"1+2*[3*3+{4–5(6(7/8/9)+10)–11+(12*8)]+14\"\n",
        "\n",
        "expression_checker(stack,expression)\n",
        "\n",
        "\n",
        "# Stack Using Linked List\n",
        "stack = StackLinkedList()\n",
        "\n",
        "expression = \"1+2*[3*3+{4–5(6(7/8/9)+10)–11+(12*8)]+14\"\n",
        "\n",
        "expression_checker(stack,expression)"
      ],
      "metadata": {
        "colab": {
          "base_uri": "https://localhost:8080/"
        },
        "id": "p5c9FVn38r_B",
        "outputId": "b26ffaf9-3941-4f3f-a96b-cd647bfc20db"
      },
      "execution_count": null,
      "outputs": [
        {
          "output_type": "stream",
          "name": "stdout",
          "text": [
            "This expression is NOT correct.\n",
            "Error at character # 10. '{' - not closed.\n",
            "This expression is NOT correct.\n",
            "Error at character # 10. '{' - not closed.\n"
          ]
        }
      ]
    },
    {
      "cell_type": "markdown",
      "source": [
        "### Test 3"
      ],
      "metadata": {
        "id": "7Ub3rovm8uvB"
      }
    },
    {
      "cell_type": "code",
      "source": [
        "# Stack Using List\n",
        "stack = StackList()\n",
        "\n",
        "expression = \"1+2*[3*3+{4–5(6(7/8/9)+10)}–11+(12*8)/{13+13}]+14\"\n",
        "\n",
        "expression_checker(stack,expression)\n",
        "\n",
        "\n",
        "# Stack Using Linked List\n",
        "stack = StackLinkedList()\n",
        "\n",
        "expression = \"1+2*[3*3+{4–5(6(7/8/9)+10)}–11+(12*8)/{13+13}]+14\"\n",
        "\n",
        "expression_checker(stack,expression)"
      ],
      "metadata": {
        "colab": {
          "base_uri": "https://localhost:8080/"
        },
        "id": "KIw-giaW8ry5",
        "outputId": "7069b8cb-110f-4092-d1b4-0ea012e92551"
      },
      "execution_count": null,
      "outputs": [
        {
          "output_type": "stream",
          "name": "stdout",
          "text": [
            "This expression is correct.\n",
            "This expression is correct.\n"
          ]
        }
      ]
    },
    {
      "cell_type": "code",
      "source": [
        "# Stack Using List\n",
        "stack = StackList()\n",
        "\n",
        "expression = \"1+2]*[3*3+{4–5(6(7/8/9)+10)–11+(12*8)]+14\"\n",
        "\n",
        "expression_checker(stack,expression)\n",
        "\n",
        "\n",
        "# Stack Using Linked List\n",
        "stack = StackLinkedList()\n",
        "\n",
        "expression = \"1+2]*[3*3+{4–5(6(7/8/9)+10)–11+(12*8)]+14\"\n",
        "\n",
        "expression_checker(stack,expression)"
      ],
      "metadata": {
        "colab": {
          "base_uri": "https://localhost:8080/"
        },
        "id": "7X4Hx4_f9SUA",
        "outputId": "105660b5-02ad-466f-db37-bd2c68d20faa"
      },
      "execution_count": null,
      "outputs": [
        {
          "output_type": "stream",
          "name": "stdout",
          "text": [
            "This expression is NOT correct.\n",
            "Error at character # 4. ']' - not opened.\n",
            "This expression is NOT correct.\n",
            "Error at character # 4. ']' - not opened.\n"
          ]
        }
      ]
    }
  ]
}