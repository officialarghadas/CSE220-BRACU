{
  "cells": [
    {
      "cell_type": "code",
      "execution_count": null,
      "metadata": {
        "id": "DK2qVa1V_C-6",
        "colab": {
          "base_uri": "https://localhost:8080/"
        },
        "outputId": "cfbcab91-1999-4b02-f7d4-1b4eba1e6d2a"
      },
      "outputs": [
        {
          "output_type": "stream",
          "name": "stdout",
          "text": [
            "Rqfasf\n",
            "adasfadgdfnhsdjgsk\n",
            "Invalid Input\n"
          ]
        }
      ],
      "source": [
        "mul_array = [['' for j in range(10)] for i in range(2)]\n",
        "\n",
        "first = input()\n",
        "second = input()\n",
        "\n",
        "if len(first) > 10  or len(second) > 10:\n",
        "    print(\"Invalid Input\")\n",
        "else:\n",
        "    print(\"Your Input is Valid, Press any key and then press enter to continue!!!\")\n",
        "\n",
        "\n",
        "    for i in range(len(first)):\n",
        "        mul_array[0][i] = first[i]\n",
        "\n",
        "    for i in range(len(second)):\n",
        "        mul_array[1][i] = second[i]\n",
        "\n",
        "    for i in range(len(first)):\n",
        "            if ord(\"A\") <= ord(first[i]) <= ord(\"Z\"):\n",
        "                start1 = i\n",
        "                break\n",
        "\n",
        "    for i in range(len(second)):\n",
        "            if ord(\"A\") <= ord(second[i]) <= ord(\"Z\"):\n",
        "                start2 = i\n",
        "                break\n",
        "\n",
        "    print(\"Top Board Start Character:\", mul_array[0][start1])\n",
        "    print(\"Top Board Start Index:\", start1)\n",
        "    print(\"Bottom Board Start Character:\", mul_array[1][start2])\n",
        "    print(\"Bottom Board Start Index:\", start2)\n",
        "\n",
        "    start1_store = start1\n",
        "    start2_store = start2\n",
        "\n",
        "    entered = None\n",
        "\n",
        "    while entered != \"Q\" and entered != \"q\":\n",
        "        entered = input(\"Press any key and then press enter to continue!!!\")\n",
        "        print(*[mul_array[0][(-i+start1) % 10] for i in range(10)],sep=\"\")\n",
        "        print(*[mul_array[1][(i+start2) % 10] for i in range(10)],sep=\"\")\n",
        "        start1 -= 1\n",
        "        start2 += 1\n",
        "\n",
        "    print(\"Top Board Start Character:\", mul_array[0][start1_store])\n",
        "    print(\"Top Board Start Index:\", start1_store)\n",
        "    print(\"Bottom Board Start Character:\", mul_array[1][start2_store])\n",
        "    print(\"Bottom Board Start Index:\", start2_store)"
      ]
    }
  ],
  "metadata": {
    "colab": {
      "provenance": []
    },
    "kernelspec": {
      "display_name": "Python 3",
      "name": "python3"
    },
    "language_info": {
      "name": "python"
    }
  },
  "nbformat": 4,
  "nbformat_minor": 0
}